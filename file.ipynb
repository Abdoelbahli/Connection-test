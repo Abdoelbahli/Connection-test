{
 "cells": [
  {
   "cell_type": "code",
   "execution_count": 2,
   "metadata": {},
   "outputs": [],
   "source": [
    "import mysql.connector  \n",
    "\n",
    "# Database config  \n",
    "config = {  \n",
    "    'host': 'localhost',  \n",
    "    'user': 'root',             # Use 'marlyn_user' if created  \n",
    "    'password': 'root',  \n",
    "    'database': 'marlyn_db'  \n",
    "}  "
   ]
  },
  {
   "cell_type": "code",
   "execution_count": 3,
   "metadata": {},
   "outputs": [
    {
     "name": "stdout",
     "output_type": "stream",
     "text": [
      "Connected to MySQL!\n",
      "Table created.\n",
      "Data inserted.\n",
      "\n",
      "Equipment List:\n",
      "(1, 'Fiber Cable', 'Active')\n",
      "(2, 'Fiber Cable', 'Active')\n",
      "(3, 'Duct', 'Active')\n"
     ]
    }
   ],
   "source": [
    "try:  \n",
    "    conn = mysql.connector.connect(**config)  \n",
    "    cursor = conn.cursor()  \n",
    "    print(\"Connected to MySQL!\")  \n",
    "\n",
    "    # Create a sample table  \n",
    "    cursor.execute(\"\"\"  \n",
    "    CREATE TABLE IF NOT EXISTS equipment (  \n",
    "        id INT AUTO_INCREMENT PRIMARY KEY,  \n",
    "        name VARCHAR(255),  \n",
    "        status VARCHAR(50)  \n",
    "    )  \n",
    "    \"\"\")  \n",
    "    print(\"Table created.\")  \n",
    "\n",
    "    # Insert test data  \n",
    "    cursor.execute(\"INSERT INTO equipment (name, status) VALUES ('Duct', 'Active')\")  \n",
    "    conn.commit()  \n",
    "    print(\"Data inserted.\")  \n",
    "\n",
    "    # Fetch data  \n",
    "    cursor.execute(\"SELECT * FROM equipment\")  \n",
    "    rows = cursor.fetchall()  \n",
    "    print(\"\\nEquipment List:\")  \n",
    "    for row in rows:  \n",
    "        print(row)  \n",
    "\n",
    "\n",
    "except mysql.connector.Error as err:  \n",
    "    print(f\"Error: {err}\")  \n",
    "\n",
    "finally:  \n",
    "    if conn.is_connected():  \n",
    "        cursor.close()  \n",
    "        conn.close()  \n"
   ]
  },
  {
   "cell_type": "code",
   "execution_count": 14,
   "metadata": {},
   "outputs": [],
   "source": [
    "# Sample data (replace with your own)  \n",
    "equipment_data = [  \n",
    "    ('Fiber Cable', 'Active', 'Building A', 1),  \n",
    "    ('Router', 'Inactive', 'Floor 2', 0),  \n",
    "    ('Splice Tray', 'Maintenance', 'Rack 5', 1),  \n",
    "    ('Patch Panel', 'Active', 'Data Center', 0)  \n",
    "]  "
   ]
  },
  {
   "cell_type": "code",
   "execution_count": 18,
   "metadata": {},
   "outputs": [
    {
     "name": "stdout",
     "output_type": "stream",
     "text": [
      "4 records inserted.\n"
     ]
    }
   ],
   "source": [
    "\n",
    "try:  \n",
    "    conn = mysql.connector.connect(**config)  \n",
    "    cursor = conn.cursor()  \n",
    "\n",
    "    cursor.execute(\"\"\"\n",
    "        CREATE TABLE IF NOT EXISTS COMMON_EQUIPMENT_LAN (  \n",
    "        eq_id INT AUTO_INCREMENT PRIMARY KEY,  \n",
    "        eq_type VARCHAR(255),  \n",
    "        status VARCHAR(50),\n",
    "        location VARCHAR(50),\n",
    "        maintenance INT\n",
    "    )\n",
    "    \"\"\" )\n",
    "                   \n",
    "    # Insert multiple rows using parameterized query  \n",
    "    insert_query = \"\"\"  \n",
    "    INSERT INTO COMMON_EQUIPMENT_LAN  \n",
    "    (eq_type, status, location, maintenance)  \n",
    "    VALUES (%s, %s, %s, %s)  \n",
    "    \"\"\"  \n",
    "    cursor.executemany(insert_query, equipment_data)  \n",
    "    conn.commit()  \n",
    "    print(f\"{cursor.rowcount} records inserted.\")  \n",
    "\n",
    "except mysql.connector.Error as err:  \n",
    "    print(f\"Error: {err}\")  \n",
    "\n",
    "finally:  \n",
    "    cursor.close()  \n",
    "    conn.close()  "
   ]
  },
  {
   "cell_type": "code",
   "execution_count": null,
   "metadata": {},
   "outputs": [],
   "source": []
  }
 ],
 "metadata": {
  "kernelspec": {
   "display_name": "Python 3",
   "language": "python",
   "name": "python3"
  },
  "language_info": {
   "codemirror_mode": {
    "name": "ipython",
    "version": 3
   },
   "file_extension": ".py",
   "mimetype": "text/x-python",
   "name": "python",
   "nbconvert_exporter": "python",
   "pygments_lexer": "ipython3",
   "version": "3.12.1"
  }
 },
 "nbformat": 4,
 "nbformat_minor": 2
}
